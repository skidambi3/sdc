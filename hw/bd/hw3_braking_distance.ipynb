{
 "cells": [
  {
   "cell_type": "code",
   "execution_count": 1,
   "metadata": {},
   "outputs": [],
   "source": [
    "import sys\n",
    "sys.path.append('../../')\n",
    "\n",
    "from car_iface import controller_model\n",
    "from utils import nn\n",
    "import numpy as np\n",
    "import matplotlib.pyplot as plt"
   ]
  },
  {
   "cell_type": "code",
   "execution_count": 2,
   "metadata": {},
   "outputs": [
    {
     "name": "stdout",
     "output_type": "stream",
     "text": [
<<<<<<< HEAD
=======
<<<<<<< HEAD
      "Using Neural Model\n",
=======
>>>>>>> e85aa159abb29b9eba779ce605b479a4dfa30407
>>>>>>> 35bedc4262d71a788c0a4a8abcff5ccdbeb045df
      "Using Neural Model\n"
     ]
    }
   ],
   "source": [
    "'''\n",
    "Set the MODE here to either use a Neural Model (FCN)\n",
    "or the analytical equation.  Note the analytical equation\n",
    "can only be used for simple motion dynamics.\n",
    "'''\n",
    "MODE = 0\n",
    "MODE_DICT = {0: \"Neural Model\", 1: \"Analytical Equation\"}\n",
    "print(f\"Using {MODE_DICT[MODE]}\")"
   ]
  },
  {
   "cell_type": "code",
   "execution_count": 3,
   "metadata": {},
   "outputs": [],
   "source": [
    "'''\n",
    "CAR_MODEL you set to either \"simple\" or \"complex\".\n",
    "This dictates the internal model dynamics you will be using.\n",
    "'''\n",
    "CAR_MODEL = \"complex\"\n",
    "ci = controller_model.Car_Interface(model = CAR_MODEL)\n",
    "\n",
    "ci.set_gear(ci.FORWARD)\n",
    "\n",
    "if (MODE_DICT[MODE] == \"Simple Equation\" and CAR_MODEL == \"complex\"):\n",
    "    raise Exception(\"Invalid combination.\")"
   ]
  },
  {
   "cell_type": "markdown",
   "metadata": {},
   "source": [
    "## Stopping Distance Generation"
   ]
  },
  {
   "cell_type": "markdown",
   "metadata": {},
   "source": [
    "Here we take advantage of the controller model we\n",
    "developed using System ID.  Now instead of spending\n",
    "excessive amounts of time manually controlling the car\n",
    "we can easily generate data to work with.\n",
    "\n",
    "For a basic implementation of this function follow the\n",
    "below steps.  A model trained with this data will not\n",
    "work in all cases, but it will generally.  If you would\n",
    "like to learn why and come up with a more robust data\n",
    "generation scheme see the braking_distance_extra ipynb\n",
    "when it is released next lecture.\n",
    "\n",
    "IMPORTANT NOTE: For this to work with the \"complex\"\n",
    "car model you will have to first fill out one small\n",
    "section around line 138 in controller_model.py. This\n",
    "will allow your controller model to work with the non-linear \n",
    "SystemID shared during lecture."
   ]
  },
  {
   "cell_type": "code",
   "execution_count": 4,
   "metadata": {},
   "outputs": [],
   "source": [
    "'''\n",
    "Basic Instructions:\n",
    "1a.Select an initial velocity uniformly at random between 0 and 1. (see: np.random.random())\n",
    " b.Directly set the controller's velocity to this initial velocity.\n",
    " c.Zero the position of the controller.\n",
    "2.Select a brake pedal amount, amt, uniformly at random between 0 and 1.\n",
    "3a.Initialize a counter variable, t, to 0.\n",
    " b.While the controller's velocity is positive repeat the following steps.\n",
    " c.Apply the brakes at depression % amt for one time step.\n",
    " d.Increment t by the controller's dt time step.\n",
    " e.If t exceeds a time limit of 5 seconds, break out of this inner loop.\n",
    "4.If the controller's velocity is 0 proceed, otherwise repeat steps 1 to 4.\n",
    "5.The stopping distance is the position of the car, get this from the controller model.\n",
    "6.Initialize inp as a list of length two, where the first element is the\n",
    "  initial velocity, and the second element is the stopping distance.\n",
    "7.Return amt, inp\n",
    "\n",
    "What we are doing here is repeatedly trying random configurations of intial speed\n",
    "and brake amount.  If we stop within the time limit then we have a valid data point.\n",
    "The current position represents our stopping distance.\n",
    "\n",
    "We take advantage of having a controller model in 3 ways.\n",
    "1. Can run the simulations a lot faster.\n",
    "2. Can directly set velocity (used in step 1b)\n",
    "3. Don't have noise with measurements (helps a lot when velocity gets close to 0)\n",
    "\n",
    "NOTE: this specific method of data generation produces a couple biases.  Consider\n",
    "the following scenario.  The car is fairly far from the target brake point.  Further,\n",
    "it is not moving very fast.  Here you attempt to precision brake, but you might find\n",
    "the car stops too early Why might this type of data point not be captured by this\n",
    "generation method?  If you see how to fix this feel free to do so.  If not next\n",
    "lecture a supplementary notebook will be released detailing the few steps needed\n",
    "to do so.\n",
    "'''\n",
    "def stopping_distance_gen():\n",
<<<<<<< HEAD
    "    initial = np.random.random()\n",
    "    brake_pedal = np.random.random()\n",
    "    amt = np.random.random()\n",
    "    ci.velocity = initial\n",
    "    while (ci.velocity != 0):\n",
    "        ci.zero_position()\n",
    "        t = 0\n",
    "        while (ci.velocity > 0):\n",
    "            ci.apply_control(ci.BRAKE, amt)\n",
    "            t += ci.dt\n",
    "            if (t > 5):\n",
    "                break\n",
    "    pos = ci.position\n",
    "    inp = [initial, pos]\n",
    "    return amt, inp\n",
    "    # CODE HERE"
=======
<<<<<<< HEAD
    "    init_vel = -1\n",
    "    while (init_vel != 0):\n",
    "        init_vel = np.random.random()\n",
    "        ci.velocity = init_vel\n",
    "        ci.zero_position()\n",
    "        \n",
    "        brake_amt = np.random.random()\n",
    "        amt = np.random.random()\n",
    "        \n",
    "        t = 0\n",
    "        while (ci.velocity > 0):\n",
    "            ci.apply_control(ci.BRAKE, brake_amt)\n",
    "            t += ci.dt\n",
    "            if (t > 5):\n",
    "                break\n",
    "    stop_dist = ci.position\n",
    "    inp = [init_vel, stop_dist]\n",
    "    return amt, inp"
=======
    "    initial_v = np.random.random()\n",
    "    ci.velocity = initial_v\n",
    "    ci.zero_position()\n",
    "    amt = np.random.random()\n",
    "    t = 0\n",
    "    while ci.velocity > 0:\n",
    "        ci.apply_control(ci.BRAKE, amt)\n",
    "        t += ci.dt\n",
    "        if t > 5:\n",
    "            break\n",
    "    stopping_dist = ci.position\n",
    "    inp = [initial_v, stopping_dist]\n",
    "    return amt, inp\n",
    "    "
>>>>>>> e85aa159abb29b9eba779ce605b479a4dfa30407
>>>>>>> 35bedc4262d71a788c0a4a8abcff5ccdbeb045df
   ]
  },
  {
   "cell_type": "code",
   "execution_count": 5,
   "metadata": {},
   "outputs": [
    {
     "name": "stdout",
     "output_type": "stream",
     "text": [
<<<<<<< HEAD
      "A car moving at 28.77% speed, applied 88.07% brakes and stopped, after travelling 0.12 distance units\n"
=======
      "A car moving at 30.57% speed, applied 1.73% brakes and stopped, after travelling 1.06 distance units\n"
>>>>>>> 35bedc4262d71a788c0a4a8abcff5ccdbeb045df
     ]
    }
   ],
   "source": [
    "'''\n",
    "Displays a sample data point.  If this provides a reasonable \n",
    "output you probably did the previous part correctly.  \n",
    "'''\n",
    "amt, (initial_velocity, stopping_distance) = stopping_distance_gen()\n",
    "print(f\"A car moving at {initial_velocity * 100:.2f}% speed, applied {amt * 100:.2f}% brakes and stopped, after travelling {stopping_distance:.2f} distance units\")"
   ]
  },
  {
   "cell_type": "code",
   "execution_count": null,
   "metadata": {},
   "outputs": [],
   "source": []
  },
  {
   "cell_type": "code",
   "execution_count": null,
   "metadata": {},
   "outputs": [],
   "source": []
  },
  {
   "cell_type": "code",
   "execution_count": null,
   "metadata": {},
   "outputs": [],
   "source": []
  },
  {
   "cell_type": "code",
   "execution_count": null,
   "metadata": {},
   "outputs": [],
   "source": []
  },
  {
   "cell_type": "markdown",
   "metadata": {},
   "source": [
    "## Analytical Solution for 'Simple' Car Model"
   ]
  },
  {
   "cell_type": "markdown",
   "metadata": {},
   "source": [
    "IMPORTANT NOTE: When you have completed implementations of these two functions, paste their definitions into the corresponding locations (under the matching function headers) in braking_distance/bd_api.py.  This is what the simulator will actually interact with."
   ]
  },
  {
   "cell_type": "code",
   "execution_count": 6,
   "metadata": {},
   "outputs": [],
   "source": [
    "'''\n",
    "Write the analytical solution for the theoretical stopping distance.\n",
    "The equation is presented in the lecture slides (Slides 9-13)\n",
    "\n",
    "Some helpful reminders:\n",
    "    The linear model assumes: accel = c_1 * p_accel + c_2 * p_brake + c_3 * vel + c_4\n",
    "    c_1 = ci.accelerator_weight\n",
    "    c_2 = ci.brake_weight\n",
    "    c_3 = -ci.friction_constant\n",
    "    c_4 = ci.rolling_bias\n",
    "    (Where ci is the car interface you initialized above)\n",
    "\n",
    "Implemenation Instructions:\n",
    "1. Initialize x, f, and v0 from available information\n",
    "2. Check if the expression in Slide 13 would evaluate infinity, if so return float('inf')\n",
    "3. Otherwise return the stopping distance as calculated in Slide 3.\n",
    "\n",
    "NOTE: the stopping distance will be infinite when the brake amount is not enough to \n",
    "overcome the rolling bias.\n",
    "\n",
    "The only discrepancy between this and the actual stopping distance\n",
    "arises from the discretized nature of the simulation.  This is\n",
    "a precise calculation otherwise.\n",
    "\n",
    "IMPORTANT: After implementing this sucessfully paste the function body in \n",
    "the corresponding and marked location in braking_distance/bd_api.py (line 80)\n",
    "'''\n",
    "def simple_analytical_sd(initial_velocity, amt):\n",
<<<<<<< HEAD
=======
<<<<<<< HEAD
    "    f = -ci.friction_constant\n",
    "    x = ci.brake_weight * amt + ci.rolling_bias\n",
    "    v0 = initial_velocity\n",
    "    t = (1/f) * (np.log(1 - (f * v0/x)))\n",
    "    if (f * v0/x <= 0):\n",
    "        return float('inf')\n",
    "    return (1/f) * (v0 + (x * t))\n",
    "\n",
=======
>>>>>>> 35bedc4262d71a788c0a4a8abcff5ccdbeb045df
    "    x = ci.brake_weight * amt + ci.rolling_bias #is amt the same as Pa-brake\n",
    "    f = ci.friction_constant #should this be negative\n",
    "    v0 = initial_velocity #is this initial_velocity\n",
    "    if 1-f*v0/x <= 0:\n",
    "        return float('inf')\n",
    "    return 1/f * (v0 + x/f * np.log(1-f*v0/x))\n",
<<<<<<< HEAD
=======
>>>>>>> e85aa159abb29b9eba779ce605b479a4dfa30407
>>>>>>> 35bedc4262d71a788c0a4a8abcff5ccdbeb045df
    "\n",
    "'''\n",
    "Function takes as input the initial velocity and desired stopping distance.\n",
    "Then using binary search returns an estimate within the specified tolerance\n",
    "of the actual required brake amount.\n",
    "\n",
    "Parameters:\n",
    "inp: (initial velocity, desired stopping distance)\n",
    "tol: estimate tolerance \n",
    "min_amt: minumum possible value of the required brake amount (initially 0)\n",
    "max_amt: maximum possible value of the required brake amount (initially 1)\n",
    "\n",
    "\n",
    "Implemenation Instructions\n",
    "1.Initialize mid_amt as the midway point between min_amt and max_amt.\n",
    "2.If the length of the min max interval is less than twice the tolerance,\n",
    "  then mid_amt is a valid estimate (+/- the the tolerance of the actual)\n",
    "3a.Calculate the analytical stopping distance with the given initial velocity,\n",
    "   and current estimate (mid_amt).\n",
    " b.Update min_amt and max_amt accordingly to narrow the search space and recurse.\n",
    "   (NOTE: careful, if the stopping distance is too high is the mid_amt too high or low?)\n",
    "   \n",
    "IMPORTANT: After implementing this sucessefully paste the function body in the \n",
    "corresponding and marked location in braking_distance/bd_api.py (roughly line 90)\n",
    "'''\n",
    "def simple_analytical_approx(inp, tol = 1e-5, min_amt = 0, max_amt = 1):\n",
<<<<<<< HEAD
    "    mid_amt = (min_amt + max_amt) / 2\n",
    "    if max_amt - min_amt >= 2 * tol:\n",
=======
<<<<<<< HEAD
    "    mid_amt = (min_amt + max_amt)/2\n",
    "    if (max_amt - min_amt >= 2 * tol):\n",
=======
    "    mid_amt = (min_amt + max_amt) / 2\n",
    "    if max_amt - min_amt >= 2 * tol:\n",
>>>>>>> e85aa159abb29b9eba779ce605b479a4dfa30407
>>>>>>> 35bedc4262d71a788c0a4a8abcff5ccdbeb045df
    "        if simple_analytical_sd(inp[0], mid_amt) > inp[1]:\n",
    "            return simple_analytical_approx(inp, tol, mid_amt, max_amt)\n",
    "        elif simple_analytical_sd(inp[0], mid_amt) < inp[1]:\n",
    "            return simple_analytical_approx(inp, tol, min_amt, mid_amt)\n",
    "    return mid_amt"
   ]
  },
  {
   "cell_type": "code",
   "execution_count": 7,
   "metadata": {},
   "outputs": [],
   "source": [
    "'''\n",
    "Demonstrate the performance of the Analytical Equation Estimate\n",
    "with a few examples.  (The estimate is the \"Closed Form Brake Amount\").\n",
    "The simulated result and the closed form brake amount should be very close.\n",
    "The discrepancy is largest in extreme value cases where the discretization\n",
    "has a significant effect.\n",
    "'''\n",
    "if (MODE == 1):\n",
    "    for i in range(3):\n",
    "            amt, (initial_velocity, stopping_distance) = stopping_distance_gen()\n",
    "            pred = simple_analytical_approx((initial_velocity, stopping_distance))\n",
    "            print(f\"Car moving at {initial_velocity * 100:.2f}%; Target Stopping Distance {stopping_distance:.2f} distance units\")\n",
    "            print(f\"Simulation Brake Amount: {amt*100:.2f}%; Closed Form Brake Amount {pred*100:.2f}%\")\n",
    "            print()"
   ]
  },
  {
   "cell_type": "markdown",
   "metadata": {},
   "source": [
    "## FCN Training and Evaluation"
   ]
  },
  {
   "cell_type": "code",
<<<<<<< HEAD
   "execution_count": 8,
=======
   "execution_count": 13,
>>>>>>> 35bedc4262d71a788c0a4a8abcff5ccdbeb045df
   "metadata": {},
   "outputs": [
    {
     "name": "stdout",
     "output_type": "stream",
     "text": [
      "WARNING: Weights file not found, initializing fcn with random weights.\n"
     ]
    }
   ],
   "source": [
    "'''\n",
    "Initialize FCN.\n",
    "\n",
    "You will need to supply additional parameters to the\n",
    "initializer function. See utils/nn.py for documentation.\n",
    "See demos/week3/Nonlinear_SystemID for example usage.\n",
    "\n",
    "Hint 1: There are two additional parameters you need to specify\n",
    "Hint 2:  What are the inputs for this FCN?  What is the ouput?\n",
    "What are the reasonable possible outputs?\n",
    "\n",
    "NOTE: If this is your first time running this block it will \n",
    "randomly initialize a set of weights.  Afterwards by default,\n",
    "this will load weights you trained earlier.  If you would like\n",
    "to force the model to reinitialize weights, provide a third\n",
    "additional argument retrain = True. (see utils/nn.py for more)\n",
    "'''\n",
    "if (MODE == 0):\n",
<<<<<<< HEAD
    "    model = nn.fcn(model_name = \"../../braking_distance/\" + CAR_MODEL + \"_bd\", num_inputs = 2, out_range = (0, 1))"
=======
<<<<<<< HEAD
    "    model = nn.fcn(model_name = \"../../braking_distance/\" + CAR_MODEL + \"_bd\", num_inputs = 2, out_range = (0, 1), retrain = True)"
=======
    "    model = nn.fcn(model_name = \"../../braking_distance/\" + CAR_MODEL + \"_bd\", num_inputs = 2, out_range = (0, 1))"
>>>>>>> e85aa159abb29b9eba779ce605b479a4dfa30407
>>>>>>> 35bedc4262d71a788c0a4a8abcff5ccdbeb045df
   ]
  },
  {
   "cell_type": "code",
   "execution_count": 15,
   "metadata": {},
   "outputs": [
    {
     "name": "stdout",
     "output_type": "stream",
     "text": [
      "EPOCH 1 0.008411\n",
      "EPOCH 41 0.007602\n",
      "EPOCH 81 0.007642\n",
      "EPOCH 121 0.007387\n",
      "EPOCH 161 0.007660\n",
      "EPOCH 200 0.008522\r"
     ]
    }
   ],
   "source": [
    "'''\n",
    "Generate 1000 inputs and targets and train for 200 epochs on this\n",
    "generated data.  (Note you can run this blck a few times to train\n",
    "further).\n",
    "\n",
    "Implementation Instructions:\n",
    "1.Initialize two empty lists, inputs and targets.\n",
    "2a.Get a brake amount and and two dimensional input by calling\n",
    "   stopping_distance_gen()\n",
    " b.Append the input to the inputs list, and the brake amount to\n",
    "   the targets list.\n",
    " c.Repeat 2a and 2b 1000 times.\n",
    "3.Use the model.train method to train with this data for 200 epochs.\n",
    "  (See nn.py for function information)\n",
    "'''\n",
    "if (MODE == 0):\n",
    "    inputs, targets = [], []\n",
    "    for _ in range(1000):\n",
    "        brake_amt, two_dim_inputs = stopping_distance_gen()\n",
    "        inputs.append(two_dim_inputs)\n",
    "        targets.append(brake_amt)\n",
<<<<<<< HEAD
    "    model.train(inputs, targets, 200)"
=======
    "    model.train(inputs, targets, 200)\n"
>>>>>>> 35bedc4262d71a788c0a4a8abcff5ccdbeb045df
   ]
  },
  {
   "cell_type": "code",
   "execution_count": 16,
   "metadata": {},
   "outputs": [
    {
     "name": "stdout",
     "output_type": "stream",
     "text": [
      "INIT VEL: 0.557 TARG SD: 0.556 BRK AMT: 0.326 MODEL OUT:0.322 \n",
      "INIT VEL: 0.925 TARG SD: 1.068 BRK AMT: 0.636 MODEL OUT:0.637 \n",
      "INIT VEL: 0.710 TARG SD: 0.843 BRK AMT: 0.337 MODEL OUT:0.333 \n"
     ]
    }
   ],
   "source": [
    "'''\n",
    "Demonstrate the performance of the FCN brake amount estimator\n",
    "with a few examples.\n",
    "'''\n",
    "if (MODE == 0):\n",
    "    for i in range(3):\n",
    "        '''\n",
    "        Generate an example scenario complete with an initial velocity,\n",
    "        target stopping distance, and necessary brake amount.\n",
    "        \n",
    "        Then run your model on the appropriate input and record it's\n",
    "        predicted brake amount.\n",
    "        \n",
    "        Finally fill in the variable names you used in the blanks to output\n",
    "        the input, target, and output.\n",
    "        \n",
    "        Ideally the model ouput should be fairly close to the brake amount.\n",
    "        '''\n",
    "\n",
<<<<<<< HEAD
=======
<<<<<<< HEAD
=======
    "        #CODE HERE\n",
>>>>>>> e85aa159abb29b9eba779ce605b479a4dfa30407
>>>>>>> 35bedc4262d71a788c0a4a8abcff5ccdbeb045df
    "        amt, inp = stopping_distance_gen()\n",
    "        prediction = model.predict(inp)\n",
    "        print(f\"INIT VEL: {inp[0]:.3f} TARG SD: {inp[1]:.3f} BRK AMT: {amt:.3f} MODEL OUT:{prediction:.3f} \")"
   ]
  },
  {
   "cell_type": "code",
   "execution_count": 17,
   "metadata": {},
   "outputs": [
    {
     "name": "stdout",
     "output_type": "stream",
     "text": [
      "WITHIN 0.1 267/300 times\n",
      "MEDIAN ERROR 0.0221\n"
     ]
    },
    {
     "data": {
      "image/png": "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\n",
      "text/plain": [
       "<Figure size 432x288 with 1 Axes>"
      ]
     },
     "metadata": {
      "needs_background": "light"
     },
     "output_type": "display_data"
    }
   ],
   "source": [
    "'''\n",
    "Empirically evaluate the model for it's performance.\n",
    "Present two stats in the end:\n",
    "1) The proportion of the time that the estimate is\n",
    "   within a certain tolerance (here 0.1)\n",
    "2) The median estimation error.\n",
    "'''\n",
    "TEST = 300\n",
    "correct = 0\n",
    "tol = 0.1\n",
    "errors = []\n",
    "for i in range(TEST):\n",
    "    print(f\"TESTING {i + 1}/{TEST}\", end = \"\\r\")\n",
    "    amt, inp = stopping_distance_gen()\n",
    "\n",
    "    if (MODE == 0):\n",
    "        out = model.predict(inp)\n",
    "    elif (MODE == 1):\n",
    "        out = simple_analytical_approx(inp, tol = 1e-5)\n",
    "\n",
    "    if (abs(out - amt) < tol):\n",
    "        correct += 1\n",
    "    errors.append(out - amt)\n",
    "print(f\"WITHIN {tol} {correct}/{TEST} times\")\n",
    "print(f\"MEDIAN ERROR {np.median(np.abs(errors)):.4f}\")\n",
    "\n",
    "plt.title(\"Error Distribution\")\n",
    "plt.hist(errors, bins = 200, range = (-1, 1))\n",
    "plt.show()"
   ]
  },
  {
   "cell_type": "markdown",
   "metadata": {},
   "source": [
    "## Model Usage"
   ]
  },
  {
   "cell_type": "markdown",
   "metadata": {},
   "source": [
    "Now you're ready to test out your algorithm!  Run the simulator in braking distance mode (command below) to begin.  Drive around to make sure you remember the controls.\n",
    "\n",
    "python simulator.py --mode braking_distance\n",
    "\n",
    "To run with complex internal model run:\n",
    "\n",
    "python simulator.py --mode braking_distance --car_model complex"
   ]
  },
  {
   "cell_type": "markdown",
   "metadata": {},
   "source": [
    "## Target Brake Point Marking"
   ]
  },
  {
   "cell_type": "markdown",
   "metadata": {},
   "source": [
    "Now drive up to one of the red stop lines in the simulator, braking nicely in front of the line.  Click 'm' this will record the position and direction in which you stopped in as a keypoint target.  Repeat this process at a few other stop lines.  (You could do other locations as well, but this is the most practical). \n",
    "\n",
    "If you accidentally add erroneous keypoints you can delete them individually by running keypoints.py. (Or delete all of them by trashing the keypoint_locations.json).  Note, either of these files are in the braking_distance folder."
   ]
  },
  {
   "cell_type": "markdown",
   "metadata": {},
   "source": [
    "## Precision Braking"
   ]
  },
  {
   "cell_type": "markdown",
   "metadata": {},
   "source": [
    "To apply precision braking approach a brake point while driving.  If a target brake point is in your heading, you should notice the option to hold 'b' appear in the terminal window.  This indicates that you may begin precision braking.  Hold 'b' to precision brake.  Release one you have stopped moving.  \n",
    "\n",
    "A graph will come up detailing how much you depressed the brake pedal as you approached the target brake point.  The reason we brake a varying amount over time is because we are replanning every timestep.  This prevents error from building up in our model, and naturally adjusts the car's behavior as appropriate."
   ]
  },
  {
   "cell_type": "markdown",
   "metadata": {},
   "source": [
    "## Evaluation"
   ]
  },
  {
   "cell_type": "markdown",
   "metadata": {},
   "source": [
    "You will be evaluated on whether or not you successfully brake, somewhat smoothly, roughly at your target brake point.  You shouldn't overshoot the brake point or stop too early either.  This should work for both simple and complex models."
   ]
  },
  {
   "cell_type": "code",
   "execution_count": null,
   "metadata": {},
   "outputs": [],
   "source": []
  },
  {
   "cell_type": "code",
   "execution_count": null,
   "metadata": {},
   "outputs": [],
   "source": []
<<<<<<< HEAD
=======
<<<<<<< HEAD
=======
>>>>>>> 35bedc4262d71a788c0a4a8abcff5ccdbeb045df
  },
  {
   "cell_type": "code",
   "execution_count": null,
   "metadata": {},
   "outputs": [],
   "source": []
<<<<<<< HEAD
=======
  },
  {
   "cell_type": "code",
   "execution_count": null,
   "metadata": {},
   "outputs": [],
   "source": []
>>>>>>> e85aa159abb29b9eba779ce605b479a4dfa30407
>>>>>>> 35bedc4262d71a788c0a4a8abcff5ccdbeb045df
  }
 ],
 "metadata": {
  "kernelspec": {
   "display_name": "Python 3",
   "language": "python",
   "name": "python3"
  },
  "language_info": {
   "codemirror_mode": {
    "name": "ipython",
    "version": 3
   },
   "file_extension": ".py",
   "mimetype": "text/x-python",
   "name": "python",
   "nbconvert_exporter": "python",
   "pygments_lexer": "ipython3",
   "version": "3.6.10"
  }
 },
 "nbformat": 4,
 "nbformat_minor": 2
}
