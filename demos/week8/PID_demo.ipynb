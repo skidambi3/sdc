{
 "cells": [
  {
   "cell_type": "code",
   "execution_count": 4,
   "metadata": {},
   "outputs": [],
   "source": [
    "import time\n",
    "import sys\n",
    "import math\n",
    "import numpy as np\n",
    "import gym\n",
    "sys.path.append('../../duckietown-sim/')\n",
    "from gym_duckietown.simulator import Simulator as DuckietownEnv\n",
    "from IPython.display import clear_output\n",
    "from matplotlib import pyplot as plt\n",
    "import collections\n",
    "%matplotlib inline\n",
    "\n",
    "def live_plot(data_dict, figsize=(7,5), title=''):\n",
    "    clear_output(wait=True)\n",
    "    plt.figure(figsize=figsize)\n",
    "    \n",
    "    for label,data in data_dict.items():\n",
    "        plt.plot(data, label=label)\n",
    "    plt.title(title)\n",
    "    plt.grid(True)\n",
    "    plt.xlabel('timestep')\n",
    "    plt.legend(loc='center left') # the plot evolves to the right\n",
    "    plt.show();"
   ]
  },
  {
   "cell_type": "markdown",
   "metadata": {},
   "source": [
    "### Initialize Enviroment"
   ]
  },
  {
   "cell_type": "code",
   "execution_count": 2,
   "metadata": {},
   "outputs": [],
   "source": [
    "env = DuckietownEnv(\n",
    "    map_name ='PID_demo', \n",
    "    domain_rand = False,\n",
    "    actions_as_voltages=True,\n",
    "    init_angle=0\n",
    ")\n",
    "\n",
    "obs = env.reset()\n",
    "env.render(top_down=True)"
   ]
  },
  {
   "cell_type": "markdown",
   "metadata": {},
   "source": [
    "### Determine Task"
   ]
  },
  {
   "cell_type": "code",
   "execution_count": 4,
   "metadata": {},
   "outputs": [],
   "source": [
    "# Get to waypoint at x=3.25m\n",
    "goal = 3.25\n",
    "\n",
    "def read_sensor():\n",
    "    return env.cur_pos[0]"
   ]
  },
  {
   "cell_type": "code",
   "execution_count": 12,
   "metadata": {},
   "outputs": [],
   "source": [
    "# Get to 0.75m/s\n",
    "goal = 0.75\n",
    "\n",
    "def read_sensor():\n",
    "    return env.speed"
   ]
  },
  {
   "cell_type": "markdown",
   "metadata": {},
   "source": [
    "### Run Control Loop"
   ]
  },
  {
   "cell_type": "code",
   "execution_count": 15,
   "metadata": {},
   "outputs": [
    {
     "data": {
      "image/png": "[encoded data removed]",
      "text/plain": [
       "<Figure size 504x360 with 1 Axes>"
      ]
     },
     "metadata": {
      "needs_background": "light"
     },
     "output_type": "display_data"
    }
   ],
   "source": [
    "obs = env.reset()\n",
    "last_error = goal - read_sensor()\n",
    "total_error = 0\n",
    "dt = 1/30\n",
    "\n",
    "logs = collections.defaultdict(list)\n",
    "for t in range(350):\n",
    "    state = read_sensor()\n",
    "\n",
    "    error = goal - state\n",
    "    derror = (error - last_error)/dt\n",
    "    total_error += error * dt\n",
    "    \n",
    "    derror = max(min(derror, 1), -1)\n",
    "    \n",
    "    kp = 1\n",
    "    kd = 0\n",
    "    ki = 0.3\n",
    "    action = kp * error + kd * derror + ki * total_error\n",
    "\n",
    "    last_error = error\n",
    "    \n",
    "    env.step([action, action])\n",
    "    env.render(top_down=True)\n",
    "\n",
    "    logs['error'].append(error)\n",
    "    logs['derror'].append(derror)\n",
    "    logs['total_error/10'].append(total_error/10)\n",
    "    logs['action'].append(action)\n",
    "    live_plot(logs, title='Control Loop Terms')"
   ]
  },
  {
   "cell_type": "markdown",
   "metadata": {},
   "source": [
    "_\n",
    "\n",
    "_\n",
    "\n",
    "_\n",
    "\n",
    "_\n",
    "\n",
    "_\n",
    "\n",
    "_\n",
    "\n",
    "_\n",
    "\n",
    "_\n",
    "\n",
    "_\n",
    "\n",
    "_\n",
    "\n",
    "_\n",
    "\n",
    "_\n",
    "\n",
    "_\n",
    "\n",
    "_\n",
    "\n",
    "_\n",
    "\n",
    "\n",
    "\n",
    "\n",
    "\n",
    "\n"
   ]
  },
  {
   "cell_type": "code",
   "execution_count": 23,
   "metadata": {},
   "outputs": [],
   "source": [
    "#Bang-Bang\n",
    "\n",
    "obs = env.reset()\n",
    "\n",
    "logs = collections.defaultdict(list)\n",
    "for t in range(350):\n",
    "    state = read_sensor()\n",
    "    \n",
    "    if state < goal:\n",
    "        action = 1\n",
    "    elif state > goal:\n",
    "        action = -1\n",
    "    else:\n",
    "        action = 1\n",
    "\n",
    "    obs, reward, done, info = env.step([action, action])\n",
    "    env.render(top_down=True)\n",
    "\n",
    "    logs['action'].append(action)\n",
    "    logs['goal'].append(goal)\n",
    "    logs['state'].append(state)\n",
    "    live_plot(logs, title='Control Loop Terms')"
   ]
  },
  {
   "cell_type": "code",
   "execution_count": null,
   "metadata": {},
   "outputs": [],
   "source": [
    "# Get to waypoint at x=3.25m\n",
    "goal = 3.25\n",
    "\n",
    "def read_sensor():\n",
    "    return env.cur_pos[0]"
   ]
  },
  {
   "cell_type": "code",
   "execution_count": null,
   "metadata": {},
   "outputs": [],
   "source": [
    "#PID Position\n",
    "kp, kd, ki= 1, 1.4, 0\n",
    "\n",
    "#PID Vel\n",
    "kp, kd, ki= 1, 0.03, 0.3\n",
    "\n",
    "\n",
    "obs = env.reset()\n",
    "last_error = goal - read_sensor()\n",
    "total_error = 0\n",
    "\n",
    "logs = collections.defaultdict(list)\n",
    "for t in range(350):\n",
    "    state = read_sensor()\n",
    "\n",
    "    error = goal - state\n",
    "    derror = (error - last_error)/env.delta_time\n",
    "    \n",
    "    derror = max(min(derror, 2), -2)\n",
    "    \n",
    "    action = kp * error + kd * derror + ki * total_error\n",
    "\n",
    "    last_error = error\n",
    "    total_error += error * env.delta_time\n",
    "    \n",
    "    env.step([action, action])\n",
    "    env.render(top_down=True)\n",
    "\n",
    "    logs['action'].append(action)\n",
    "    logs['error'].append(error)\n",
    "    logs['derror'].append(derror)\n",
    "    logs['total error/10'].append(total_error/10)\n",
    "    live_plot(logs, title='Control Loop Terms')"
   ]
  },
  {
   "cell_type": "code",
   "execution_count": 21,
   "metadata": {},
   "outputs": [],
   "source": [
    "# Maintain a constant speed of 0.75m/s\n",
    "goal = 0.75\n",
    "\n",
    "def read_sensor():\n",
    "    return env.speed"
   ]
  }
 ],
 "metadata": {
  "kernelspec": {
   "display_name": "Python [conda env:gym-duckietown] *",
   "language": "python",
   "name": "conda-env-gym-duckietown-py"
  },
  "language_info": {
   "codemirror_mode": {
    "name": "ipython",
    "version": 3
   },
   "file_extension": ".py",
   "mimetype": "text/x-python",
   "name": "python",
   "nbconvert_exporter": "python",
   "pygments_lexer": "ipython3",
   "version": "3.6.10"
  }
 },
 "nbformat": 4,
 "nbformat_minor": 2
}
